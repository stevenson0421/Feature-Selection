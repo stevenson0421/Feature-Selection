{
 "cells": [
  {
   "cell_type": "code",
   "execution_count": 1,
   "metadata": {},
   "outputs": [],
   "source": [
    "import numpy as np\n",
    "import pandas as pd\n",
    "import matplotlib.pyplot as plt\n",
    "import os"
   ]
  },
  {
   "cell_type": "code",
   "execution_count": 70,
   "metadata": {},
   "outputs": [],
   "source": [
    "dataset_name = 'Paper/UNSW_NB15'\n",
    "models = ['LR', 'GB', 'NN']\n",
    "individual_methods = ['chi2', 'ANOVA', 'mutualinfo', 'sfs(gb)', 'sfs(lr)', 'im(gb)', 'im(lr)']\n",
    "set_methods = ['union', 'intersection', 'quorum']\n",
    "cv_columns = ['MD_score', 'MPR_score', 'MS_score']\n",
    "test_columns = ['MD_test', 'MPR_test', 'MS_test']\n",
    "size_columns = ['MD_size', 'MPR_size', 'MS_size']\n",
    "stopping_methods = ['MaxDelta', 'MinPerfReq', 'MaxScore']\n",
    "full_feature_cv = [0.8348775225114273, 0.9362098059003193, 0.9095798445830852]\n",
    "full_feature_test = [0.9084009043466434, 0.9280851645083256, 0.9015844758604717]"
   ]
  },
  {
   "attachments": {},
   "cell_type": "markdown",
   "metadata": {},
   "source": [
    "# Load Data"
   ]
  },
  {
   "cell_type": "code",
   "execution_count": 72,
   "metadata": {},
   "outputs": [],
   "source": [
    "cv = pd.DataFrame(columns=[cv_columns])\n",
    "test = pd.DataFrame(columns=[test_columns])\n",
    "size = pd.DataFrame(columns=[size_columns])\n",
    "df = pd.read_csv(os.path.join('../Results/', dataset_name, 'Greedy_Stopping_Point.csv'), index_col=0)\n",
    "\n",
    "for index in df.index:\n",
    "    cv.loc[index] = df.loc[index][cv_columns].tolist()\n",
    "    test.loc[index] = df.loc[index][test_columns].tolist()\n",
    "    size.loc[index] = df.loc[index][size_columns].tolist()"
   ]
  },
  {
   "cell_type": "code",
   "execution_count": null,
   "metadata": {},
   "outputs": [],
   "source": [
    "df = pd.read_csv(os.path.join('../Results/', dataset_name, 'Set_Stopping_Point.csv'), index_col=0)\n",
    "\n",
    "for index in df.index:\n",
    "    cv.loc[index] = df.loc[index][cv_columns].tolist()\n",
    "    test.loc[index] = df.loc[index][test_columns].tolist()\n",
    "    size.loc[index] = df.loc[index][size_columns].tolist()"
   ]
  },
  {
   "cell_type": "code",
   "execution_count": null,
   "metadata": {},
   "outputs": [],
   "source": [
    "df = pd.read_csv(os.path.join('../Results/', dataset_name, 'Individual_Stopping_Point.csv'), index_col=0)\n",
    "\n",
    "for index in df.index:\n",
    "    cv.loc[index] = df.loc[index][cv_columns].tolist()\n",
    "    test.loc[index] = df.loc[index][test_columns].tolist()\n",
    "    size.loc[index] = df.loc[index][size_columns].tolist()"
   ]
  },
  {
   "attachments": {},
   "cell_type": "markdown",
   "metadata": {},
   "source": [
    "# Plot"
   ]
  },
  {
   "cell_type": "code",
   "execution_count": 73,
   "metadata": {},
   "outputs": [],
   "source": [
    "WIDTH = 0.25\n",
    "xticks = ['greedy'] + set_methods + individual_methods"
   ]
  },
  {
   "cell_type": "code",
   "execution_count": 75,
   "metadata": {},
   "outputs": [
    {
     "data": {
      "text/plain": [
       "<Figure size 640x480 with 0 Axes>"
      ]
     },
     "metadata": {},
     "output_type": "display_data"
    },
    {
     "data": {
      "text/plain": [
       "<Figure size 1200x900 with 0 Axes>"
      ]
     },
     "metadata": {},
     "output_type": "display_data"
    },
    {
     "data": {
      "text/plain": [
       "<Figure size 1200x900 with 0 Axes>"
      ]
     },
     "metadata": {},
     "output_type": "display_data"
    },
    {
     "data": {
      "text/plain": [
       "<Figure size 1200x900 with 0 Axes>"
      ]
     },
     "metadata": {},
     "output_type": "display_data"
    },
    {
     "data": {
      "text/plain": [
       "<Figure size 1200x900 with 0 Axes>"
      ]
     },
     "metadata": {},
     "output_type": "display_data"
    },
    {
     "data": {
      "text/plain": [
       "<Figure size 1200x900 with 0 Axes>"
      ]
     },
     "metadata": {},
     "output_type": "display_data"
    },
    {
     "data": {
      "text/plain": [
       "<Figure size 1200x900 with 0 Axes>"
      ]
     },
     "metadata": {},
     "output_type": "display_data"
    },
    {
     "data": {
      "text/plain": [
       "<Figure size 1200x900 with 0 Axes>"
      ]
     },
     "metadata": {},
     "output_type": "display_data"
    },
    {
     "data": {
      "text/plain": [
       "<Figure size 1200x900 with 0 Axes>"
      ]
     },
     "metadata": {},
     "output_type": "display_data"
    },
    {
     "data": {
      "image/png": "[encoded data removed]",
      "text/plain": [
       "<Figure size 1200x900 with 1 Axes>"
      ]
     },
     "metadata": {},
     "output_type": "display_data"
    }
   ],
   "source": [
    "for model in models:\n",
    "    cv_ = cv[cv.index.str.endswith(model)].copy()\n",
    "    n = len(cv_)\n",
    "    test_ = test[test.index.str.endswith(model)].copy()\n",
    "    size_ = size[size.index.str.endswith(model)].copy()\n",
    "    # cv score\n",
    "    plt.clf()\n",
    "    plt.figure(figsize=(12, 9))\n",
    "    plt.bar(x=range(n), height=cv_['MD_score'].values.reshape(n), width=WIDTH, label=stopping_methods[0])\n",
    "    plt.bar(x=[x+WIDTH for x in range(n)], height=cv_['MPR_score'].values.reshape(n), width=WIDTH, label=stopping_methods[1])\n",
    "    plt.bar(x=[x+0.5 for x in range(n)], height=cv_['MS_score'].values.reshape(n), width=WIDTH, label=stopping_methods[2])\n",
    "\n",
    "    plt.xticks([x+0.25 for x in range(n)], xticks)\n",
    "    plt.xticks(rotation=20)\n",
    "    plt.ylabel('F1 Score')\n",
    "    plt.plot(full_feature_cv[0])\n",
    "    plt.plot(range(n), [full_feature_cv[0] for _ in range(n)], color='magenta', linestyle='--')\n",
    "\n",
    "    plt.legend()\n",
    "    plt.tight_layout()\n",
    "    plt.savefig('../Evaluation/' + dataset_name + '/Compare_CV_F1_' + model + '.png')\n",
    "    # test score\n",
    "    plt.clf()\n",
    "    plt.figure(figsize=(12, 9))\n",
    "    plt.bar(x=range(n), height=test_['MD_test'].values.reshape(n), width=WIDTH, label=stopping_methods[0])\n",
    "    plt.bar(x=[x+WIDTH for x in range(n)], height=test_['MPR_test'].values.reshape(n), width=WIDTH, label=stopping_methods[1])\n",
    "    plt.bar(x=[x+0.5 for x in range(n)], height=test_['MS_test'].values.reshape(n), width=WIDTH, label=stopping_methods[2])\n",
    "\n",
    "    plt.xticks([x+0.25 for x in range(n)], xticks)\n",
    "    plt.xticks(rotation=20)\n",
    "    plt.ylabel('F1 Score')\n",
    "    plt.plot(full_feature_test[0])\n",
    "    plt.plot(range(n), [full_feature_test[0] for _ in range(n)], color='magenta', linestyle='--')\n",
    "\n",
    "    plt.legend()\n",
    "    plt.tight_layout()\n",
    "    plt.savefig('../Evaluation/' + dataset_name + '/Compare_Test_F1_' + model + '.png')\n",
    "    # feature size\n",
    "    plt.clf()\n",
    "    plt.figure(figsize=(12, 9))\n",
    "    plt.bar(x=range(n), height=size_['MD_size'].values.reshape(n), width=WIDTH, label=stopping_methods[0])\n",
    "    plt.bar(x=[x+WIDTH for x in range(n)], height=size_['MPR_size'].values.reshape(n), width=WIDTH, label=stopping_methods[1])\n",
    "    plt.bar(x=[x+0.5 for x in range(n)], height=size_['MS_size'].values.reshape(n), width=WIDTH, label=stopping_methods[2])\n",
    "\n",
    "    plt.xticks([x+0.25 for x in range(n)], xticks)\n",
    "    plt.xticks(rotation=20)\n",
    "    plt.ylabel('Number of Features')\n",
    "    plt.plot(range(n), [24 for _ in range(n)], color='magenta', linestyle='--')\n",
    "\n",
    "    plt.legend()\n",
    "    plt.tight_layout()\n",
    "    plt.savefig('../Evaluation/' + dataset_name + '/Compare_Size_' + model + '.png')"
   ]
  },
  {
   "cell_type": "code",
   "execution_count": 82,
   "metadata": {},
   "outputs": [
    {
     "data": {
      "image/png": "[encoded data removed]",
      "text/plain": [
       "<Figure size 1200x900 with 1 Axes>"
      ]
     },
     "metadata": {},
     "output_type": "display_data"
    }
   ],
   "source": [
    "test1 = [0.884446323991132, 0.9230903902379243, 0.9007256829630944]\n",
    "size1 = [2, 2, 2]\n",
    "test2 = [0.8087816386677339, 0.900197694904313, 0.9006829708103236]\n",
    "size2 = [2, 2, 3]\n",
    "plt.figure(figsize=(12, 9))\n",
    "plt.bar(range(3), test1, width=WIDTH, label='Our Method')\n",
    "plt.bar([x+WIDTH for x in range(3)], test2, width=WIDTH, label='Paper Method')\n",
    "plt.xticks([x+0.25 for x in range(3)], models)\n",
    "plt.ylabel('Test Score')\n",
    "plt.legend()\n",
    "plt.tight_layout()\n",
    "plt.show()"
   ]
  }
 ],
 "metadata": {
  "kernelspec": {
   "display_name": "base",
   "language": "python",
   "name": "python3"
  },
  "language_info": {
   "codemirror_mode": {
    "name": "ipython",
    "version": 3
   },
   "file_extension": ".py",
   "mimetype": "text/x-python",
   "name": "python",
   "nbconvert_exporter": "python",
   "pygments_lexer": "ipython3",
   "version": "3.9.13"
  },
  "orig_nbformat": 4,
  "vscode": {
   "interpreter": {
    "hash": "c5beee997024d7971c76f93c19aaab98385b114609fcc13a1cfa091621f83f64"
   }
  }
 },
 "nbformat": 4,
 "nbformat_minor": 2
}
