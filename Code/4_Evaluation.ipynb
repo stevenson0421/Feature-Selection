{
 "cells": [
  {
   "cell_type": "code",
   "execution_count": 11,
   "metadata": {},
   "outputs": [],
   "source": [
    "import numpy as np\n",
    "import pandas as pd\n",
    "import matplotlib.pyplot as plt\n",
    "import os"
   ]
  },
  {
   "cell_type": "code",
   "execution_count": 19,
   "metadata": {},
   "outputs": [],
   "source": [
    "dataset_name = 'CICIDS_2017'\n",
    "models = ['LR', 'GB', 'NN']\n",
    "individual_methods = ['chi2', 'ANOVA', 'mutualinfo', 'sfs(gb)', 'sfs(lr)', 'im(gb)', 'im(lr)']\n",
    "set_methods = ['union', 'intersection', 'quorum']\n",
    "cv_columns = ['MD_score', 'MPR_score', 'MS_score']\n",
    "test_columns = ['MD_test', 'MPR_test', 'MS_test']\n",
    "size_columns = ['MD_size', 'MPR_size', 'MS_size']\n",
    "stopping_methods = ['MaxDelta', 'MinPerfReq', 'MaxScore']\n",
    "full_feature_cv = []\n",
    "full_feature_test = []"
   ]
  },
  {
   "cell_type": "code",
   "execution_count": 20,
   "metadata": {},
   "outputs": [
    {
     "name": "stdout",
     "output_type": "stream",
     "text": [
      "[0.6456829213412882, 0.9963641842163856, 0.9641661273739398]\n",
      "[0.6411676068142242, 0.9961973063607992, 0.9652960688613438]\n"
     ]
    }
   ],
   "source": [
    "for model in models:\n",
    "    # read the results, extract their score parts.\n",
    "    cv_df = pd.read_csv(os.path.join('../Results/', dataset_name, 'Greedy_CV_F1_' + model + '.csv'), index_col=0)\n",
    "    test_df = pd.read_csv(os.path.join('../Results/', dataset_name, 'Greedy_Test_F1_' + model + '.csv'), index_col=0)\n",
    "    cv_score = cv_df.iloc[0].apply(lambda x: float(x.translate( { ord(i): None for i in '()'} ).split(',')[0]))\n",
    "    test_score = test_df.iloc[0]\n",
    "    full_feature_cv.append(cv_score[-1])\n",
    "    full_feature_test.append(test_score[-1])\n",
    "print(full_feature_cv)\n",
    "print(full_feature_test)"
   ]
  },
  {
   "attachments": {},
   "cell_type": "markdown",
   "metadata": {},
   "source": [
    "# Load Data"
   ]
  },
  {
   "cell_type": "code",
   "execution_count": 13,
   "metadata": {},
   "outputs": [],
   "source": [
    "cv = pd.DataFrame(columns=[cv_columns])\n",
    "test = pd.DataFrame(columns=[test_columns])\n",
    "size = pd.DataFrame(columns=[size_columns])\n",
    "df = pd.read_csv(os.path.join('../Results/', dataset_name, 'Greedy_Stopping_Point.csv'), index_col=0)\n",
    "\n",
    "for index in df.index:\n",
    "    cv.loc[index] = df.loc[index][cv_columns].tolist()\n",
    "    test.loc[index] = df.loc[index][test_columns].tolist()\n",
    "    size.loc[index] = df.loc[index][size_columns].tolist()"
   ]
  },
  {
   "cell_type": "code",
   "execution_count": 14,
   "metadata": {},
   "outputs": [
    {
     "data": {
      "text/html": [
       "<div>\n",
       "<style scoped>\n",
       "    .dataframe tbody tr th:only-of-type {\n",
       "        vertical-align: middle;\n",
       "    }\n",
       "\n",
       "    .dataframe tbody tr th {\n",
       "        vertical-align: top;\n",
       "    }\n",
       "\n",
       "    .dataframe thead tr th {\n",
       "        text-align: left;\n",
       "    }\n",
       "</style>\n",
       "<table border=\"1\" class=\"dataframe\">\n",
       "  <thead>\n",
       "    <tr>\n",
       "      <th></th>\n",
       "      <th>MD_test</th>\n",
       "      <th>MPR_test</th>\n",
       "      <th>MS_test</th>\n",
       "    </tr>\n",
       "  </thead>\n",
       "  <tbody>\n",
       "    <tr>\n",
       "      <th>greedy_LR</th>\n",
       "      <td>0.505692</td>\n",
       "      <td>0.621372</td>\n",
       "      <td>0.505692</td>\n",
       "    </tr>\n",
       "    <tr>\n",
       "      <th>greedy_GB</th>\n",
       "      <td>0.929548</td>\n",
       "      <td>0.995961</td>\n",
       "      <td>0.929548</td>\n",
       "    </tr>\n",
       "    <tr>\n",
       "      <th>greedy_NN</th>\n",
       "      <td>0.680800</td>\n",
       "      <td>0.904767</td>\n",
       "      <td>0.904767</td>\n",
       "    </tr>\n",
       "  </tbody>\n",
       "</table>\n",
       "</div>"
      ],
      "text/plain": [
       "            MD_test  MPR_test   MS_test\n",
       "greedy_LR  0.505692  0.621372  0.505692\n",
       "greedy_GB  0.929548  0.995961  0.929548\n",
       "greedy_NN  0.680800  0.904767  0.904767"
      ]
     },
     "execution_count": 14,
     "metadata": {},
     "output_type": "execute_result"
    }
   ],
   "source": [
    "test.head()"
   ]
  },
  {
   "cell_type": "code",
   "execution_count": 5,
   "metadata": {},
   "outputs": [],
   "source": [
    "df = pd.read_csv(os.path.join('../Results/', dataset_name, 'Set_Stopping_Point.csv'), index_col=0)\n",
    "\n",
    "for index in df.index:\n",
    "    cv.loc[index] = df.loc[index][cv_columns].tolist()\n",
    "    test.loc[index] = df.loc[index][test_columns].tolist()\n",
    "    size.loc[index] = df.loc[index][size_columns].tolist()"
   ]
  },
  {
   "cell_type": "code",
   "execution_count": 6,
   "metadata": {},
   "outputs": [],
   "source": [
    "df = pd.read_csv(os.path.join('../Results/', dataset_name, 'Individual_Stopping_Point.csv'), index_col=0)\n",
    "\n",
    "for index in df.index:\n",
    "    cv.loc[index] = df.loc[index][cv_columns].tolist()\n",
    "    test.loc[index] = df.loc[index][test_columns].tolist()\n",
    "    size.loc[index] = df.loc[index][size_columns].tolist()"
   ]
  },
  {
   "attachments": {},
   "cell_type": "markdown",
   "metadata": {},
   "source": [
    "# Plot"
   ]
  },
  {
   "cell_type": "code",
   "execution_count": 21,
   "metadata": {},
   "outputs": [],
   "source": [
    "WIDTH = 0.25\n",
    "xticks = ['greedy'] + set_methods + individual_methods"
   ]
  },
  {
   "cell_type": "code",
   "execution_count": 8,
   "metadata": {},
   "outputs": [
    {
     "data": {
      "text/plain": [
       "<Figure size 640x480 with 0 Axes>"
      ]
     },
     "metadata": {},
     "output_type": "display_data"
    },
    {
     "data": {
      "text/plain": [
       "<Figure size 1200x900 with 0 Axes>"
      ]
     },
     "metadata": {},
     "output_type": "display_data"
    },
    {
     "data": {
      "text/plain": [
       "<Figure size 1200x900 with 0 Axes>"
      ]
     },
     "metadata": {},
     "output_type": "display_data"
    },
    {
     "data": {
      "text/plain": [
       "<Figure size 1200x900 with 0 Axes>"
      ]
     },
     "metadata": {},
     "output_type": "display_data"
    },
    {
     "data": {
      "text/plain": [
       "<Figure size 1200x900 with 0 Axes>"
      ]
     },
     "metadata": {},
     "output_type": "display_data"
    },
    {
     "data": {
      "text/plain": [
       "<Figure size 1200x900 with 0 Axes>"
      ]
     },
     "metadata": {},
     "output_type": "display_data"
    },
    {
     "data": {
      "text/plain": [
       "<Figure size 1200x900 with 0 Axes>"
      ]
     },
     "metadata": {},
     "output_type": "display_data"
    },
    {
     "data": {
      "text/plain": [
       "<Figure size 1200x900 with 0 Axes>"
      ]
     },
     "metadata": {},
     "output_type": "display_data"
    },
    {
     "data": {
      "text/plain": [
       "<Figure size 1200x900 with 0 Axes>"
      ]
     },
     "metadata": {},
     "output_type": "display_data"
    },
    {
     "data": {
      "image/png": "[encoded data removed]",
      "text/plain": [
       "<Figure size 1200x900 with 1 Axes>"
      ]
     },
     "metadata": {},
     "output_type": "display_data"
    }
   ],
   "source": [
    "for model in models:\n",
    "    cv_ = cv[cv.index.str.endswith(model)].copy()\n",
    "    n = len(cv_)\n",
    "    test_ = test[test.index.str.endswith(model)].copy()\n",
    "    size_ = size[size.index.str.endswith(model)].copy()\n",
    "    # cv score\n",
    "    plt.clf()\n",
    "    plt.figure(figsize=(12, 9))\n",
    "    plt.bar(x=range(n), height=cv_['MD_score'].values.reshape(n), width=WIDTH, label=stopping_methods[0])\n",
    "    plt.bar(x=[x+WIDTH for x in range(n)], height=cv_['MPR_score'].values.reshape(n), width=WIDTH, label=stopping_methods[1])\n",
    "    plt.bar(x=[x+WIDTH*2 for x in range(n)], height=cv_['MS_score'].values.reshape(n), width=WIDTH, label=stopping_methods[2])\n",
    "\n",
    "    plt.xticks([x+WIDTH for x in range(n)], xticks)\n",
    "    plt.xticks(rotation=20)\n",
    "    plt.ylabel('F1 Score')\n",
    "    plt.plot(full_feature_cv[0])\n",
    "    plt.plot(range(n), [full_feature_cv[0] for _ in range(n)], color='magenta', linestyle='--')\n",
    "\n",
    "    plt.legend()\n",
    "    plt.tight_layout()\n",
    "    plt.savefig('../Evaluation/' + dataset_name + '/Compare_CV_F1_' + model + '.png')\n",
    "    # test score\n",
    "    plt.clf()\n",
    "    plt.figure(figsize=(12, 9))\n",
    "    plt.bar(x=range(n), height=test_['MD_test'].values.reshape(n), width=WIDTH, label=stopping_methods[0])\n",
    "    plt.bar(x=[x+WIDTH for x in range(n)], height=test_['MPR_test'].values.reshape(n), width=WIDTH, label=stopping_methods[1])\n",
    "    plt.bar(x=[x+WIDTH*2 for x in range(n)], height=test_['MS_test'].values.reshape(n), width=WIDTH, label=stopping_methods[2])\n",
    "\n",
    "    plt.xticks([x+WIDTH for x in range(n)], xticks)\n",
    "    plt.xticks(rotation=20)\n",
    "    plt.ylabel('F1 Score')\n",
    "    plt.plot(full_feature_test[0])\n",
    "    plt.plot(range(n), [full_feature_test[0] for _ in range(n)], color='magenta', linestyle='--')\n",
    "\n",
    "    plt.legend()\n",
    "    plt.tight_layout()\n",
    "    plt.savefig('../Evaluation/' + dataset_name + '/Compare_Test_F1_' + model + '.png')\n",
    "    # feature size\n",
    "    plt.clf()\n",
    "    plt.figure(figsize=(12, 9))\n",
    "    plt.bar(x=range(n), height=size_['MD_size'].values.reshape(n), width=WIDTH, label=stopping_methods[0])\n",
    "    plt.bar(x=[x+WIDTH for x in range(n)], height=size_['MPR_size'].values.reshape(n), width=WIDTH, label=stopping_methods[1])\n",
    "    plt.bar(x=[x+WIDTH*2 for x in range(n)], height=size_['MS_size'].values.reshape(n), width=WIDTH, label=stopping_methods[2])\n",
    "\n",
    "    plt.xticks([x+WIDTH for x in range(n)], xticks)\n",
    "    plt.xticks(rotation=20)\n",
    "    plt.ylabel('Number of Features')\n",
    "    plt.plot(range(n), [29 for _ in range(n)], color='magenta', linestyle='--')\n",
    "\n",
    "    plt.legend()\n",
    "    plt.tight_layout()\n",
    "    plt.savefig('../Evaluation/' + dataset_name + '/Compare_Size_' + model + '.png')"
   ]
  },
  {
   "cell_type": "code",
   "execution_count": 22,
   "metadata": {},
   "outputs": [
    {
     "data": {
      "text/plain": [
       "<Figure size 1200x900 with 0 Axes>"
      ]
     },
     "metadata": {},
     "output_type": "display_data"
    },
    {
     "data": {
      "image/png": "[encoded data removed]",
      "text/plain": [
       "<Figure size 1200x900 with 1 Axes>"
      ]
     },
     "metadata": {},
     "output_type": "display_data"
    }
   ],
   "source": [
    "dataset_name = 'CICIDS_2017'\n",
    "WIDTH = 0.25\n",
    "models = ['LR', 'GB', 'NN']\n",
    "test1 = [0.5039294029722039, 0.9762562330721378, 0.8968862417762862]\n",
    "size1 = [5, 3, 4]\n",
    "test2 = [0.494478612556685, 0.9912503768057692, 0.9081973094170402]\n",
    "size2 = [7, 3, 4]\n",
    "plt.figure(figsize=(12, 9))\n",
    "plt.bar(range(3), test1, width=WIDTH, label='Our Method')\n",
    "plt.bar([x+WIDTH for x in range(3)], test2, width=WIDTH, label='Paper Method')\n",
    "plt.xticks([x+0.25 for x in range(3)], models)\n",
    "plt.ylabel('Test Score')\n",
    "plt.legend()\n",
    "plt.tight_layout()\n",
    "plt.savefig('../Evaluation/Compare_F1_' + dataset_name + '_2.png')\n",
    "plt.clf()\n",
    "plt.figure(figsize=(12, 9))\n",
    "plt.bar(range(3), size1, width=WIDTH, label='Our Method')\n",
    "plt.bar([x+WIDTH for x in range(3)], size2, width=WIDTH, label='Paper Method')\n",
    "plt.xticks([x+0.25 for x in range(3)], models)\n",
    "plt.ylabel('Number Of Features')\n",
    "plt.legend()\n",
    "plt.tight_layout()\n",
    "plt.savefig('../Evaluation/Compare_Size_' + dataset_name + '_2.png')"
   ]
  }
 ],
 "metadata": {
  "kernelspec": {
   "display_name": "base",
   "language": "python",
   "name": "python3"
  },
  "language_info": {
   "codemirror_mode": {
    "name": "ipython",
    "version": 3
   },
   "file_extension": ".py",
   "mimetype": "text/x-python",
   "name": "python",
   "nbconvert_exporter": "python",
   "pygments_lexer": "ipython3",
   "version": "3.9.13"
  },
  "orig_nbformat": 4,
  "vscode": {
   "interpreter": {
    "hash": "c5beee997024d7971c76f93c19aaab98385b114609fcc13a1cfa091621f83f64"
   }
  }
 },
 "nbformat": 4,
 "nbformat_minor": 2
}
