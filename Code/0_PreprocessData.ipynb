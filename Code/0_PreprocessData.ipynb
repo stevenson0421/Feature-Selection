{
 "cells": [
  {
   "cell_type": "code",
   "execution_count": 1,
   "metadata": {},
   "outputs": [],
   "source": [
    "import numpy as np\n",
    "import pandas as pd"
   ]
  },
  {
   "attachments": {},
   "cell_type": "markdown",
   "metadata": {},
   "source": [
    "## CICIDS-2017"
   ]
  },
  {
   "cell_type": "code",
   "execution_count": 3,
   "metadata": {},
   "outputs": [
    {
     "name": "stdout",
     "output_type": "stream",
     "text": [
      "(2755811, 80)\n",
      "(2754486, 80)\n",
      "(500000, 80)\n",
      "(500000, 80)\n"
     ]
    }
   ],
   "source": [
    "# files = ['Friday-WorkingHours-Afternoon-DDos.pcap_ISCX.csv',\n",
    "# 'Friday-WorkingHours-Afternoon-PortScan.pcap_ISCX.csv',\n",
    "# 'Friday-WorkingHours-Afternoon-PortScan.pcap_ISCX.csv',\n",
    "# 'Monday-WorkingHours.pcap_ISCX.csv',\n",
    "# 'Thursday-WorkingHours-Afternoon-Infilteration.pcap_ISCX.csv',\n",
    "# 'Tuesday-WorkingHours.pcap_ISCX.csv',\n",
    "# 'Wednesday-workingHours.pcap_ISCX.csv']\n",
    "\n",
    "# d = pd.DataFrame()\n",
    "# for f in files:\n",
    "#     raw = pd.read_csv('../Data/CICIDS_2017/' + f)\n",
    "#     d = pd.concat([d, raw], axis=0)\n",
    "d = pd.read_csv('../Data/CICIDS_2017/all.csv')\n",
    "print(d.shape)\n",
    "d = d.dropna()\n",
    "print(d.shape)\n",
    "\n",
    "train = pd.DataFrame()\n",
    "for i in range(5):\n",
    "    train = pd.concat([train, d.sample(100000)], axis=0)\n",
    "train.to_csv('../Data/CICIDS_2017/train.csv')\n",
    "print(train.shape)\n",
    "test= pd.DataFrame()\n",
    "for i in range(5):\n",
    "    test = pd.concat([test, d.sample(100000)], axis=0)\n",
    "test.to_csv('../Data/CICIDS_2017/test.csv')\n",
    "print(test.shape)"
   ]
  },
  {
   "attachments": {},
   "cell_type": "markdown",
   "metadata": {},
   "source": [
    "## NSL-KDD"
   ]
  },
  {
   "cell_type": "code",
   "execution_count": 8,
   "metadata": {},
   "outputs": [],
   "source": [
    "from scipy.io.arff import loadarff\n",
    "\n",
    "data = loadarff('../Data/NSL_KDD/KDDTrain+.arff')\n",
    "df = pd.DataFrame(data[0])\n",
    "cat = df.select_dtypes(include='O').columns\n",
    "df[cat] = df[cat].apply(lambda x: x.str.decode('utf8'))\n",
    "df.to_csv('../Data/NSL_KDD/train.csv', index=False)\n",
    "\n",
    "data = loadarff('../Data/NSL_KDD/KDDTest+.arff')\n",
    "df = pd.DataFrame(data[0])\n",
    "cat = df.select_dtypes(include='O').columns\n",
    "df[cat] = df[cat].apply(lambda x: x.str.decode('utf8'))\n",
    "df.to_csv('../Data/NSL_KDD/test.csv', index=False)"
   ]
  }
 ],
 "metadata": {
  "kernelspec": {
   "display_name": "base",
   "language": "python",
   "name": "python3"
  },
  "language_info": {
   "codemirror_mode": {
    "name": "ipython",
    "version": 3
   },
   "file_extension": ".py",
   "mimetype": "text/x-python",
   "name": "python",
   "nbconvert_exporter": "python",
   "pygments_lexer": "ipython3",
   "version": "3.9.13"
  },
  "orig_nbformat": 4,
  "vscode": {
   "interpreter": {
    "hash": "c5beee997024d7971c76f93c19aaab98385b114609fcc13a1cfa091621f83f64"
   }
  }
 },
 "nbformat": 4,
 "nbformat_minor": 2
}
