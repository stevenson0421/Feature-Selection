{
 "cells": [
  {
   "cell_type": "code",
   "execution_count": 21,
   "metadata": {},
   "outputs": [],
   "source": [
    "import numpy as np\n",
    "import pandas as pd\n",
    "import matplotlib.pyplot as plt\n",
    "from tqdm import trange"
   ]
  },
  {
   "cell_type": "code",
   "execution_count": 2,
   "metadata": {},
   "outputs": [],
   "source": [
    "from sklearn.linear_model import LogisticRegression\n",
    "from sklearn.ensemble import GradientBoostingClassifier\n",
    "from sklearn.metrics import f1_score\n",
    "from sklearnex import patch_sklearn"
   ]
  },
  {
   "cell_type": "code",
   "execution_count": 3,
   "metadata": {},
   "outputs": [
    {
     "name": "stdout",
     "output_type": "stream",
     "text": [
      "(82332, 45)\n",
      "(175341, 45)\n"
     ]
    }
   ],
   "source": [
    "# Load Data\n",
    "train_raw = pd.read_csv('../Data/UNSW-NB15/train.csv')\n",
    "print(train_raw.shape)\n",
    "test_raw = pd.read_csv('../Data/UNSW-NB15/test.csv')\n",
    "print(test_raw.shape)\n",
    "\n",
    "# Seperate label and Drop\n",
    "train_X = train_raw.drop(['id', 'attack_cat', 'label'], axis=1).select_dtypes(include='number')\n",
    "train_Y = train_raw['label']\n",
    "test_X = test_raw.drop(['id', 'attack_cat', 'label'], axis=1).select_dtypes(include='number')\n",
    "test_Y = test_raw['label']\n",
    "\n",
    "# Normalize data with min, max of training data\n",
    "test_X1 = (test_X - train_X.min(axis=0)) / (train_X.max(axis=0) - train_X.min(axis=0))\n",
    "train_X1 = (train_X - train_X.min(axis=0)) / (train_X.max(axis=0) - train_X.min(axis=0))\n",
    "\n",
    "test_X1[test_X1 < 0] = 0\n",
    "test_X1[test_X1 > 1] = 1"
   ]
  },
  {
   "cell_type": "code",
   "execution_count": 4,
   "metadata": {},
   "outputs": [],
   "source": [
    "model_lr = LogisticRegression(max_iter=10000, random_state=0, n_jobs=-1)\n",
    "model_gb = GradientBoostingClassifier(random_state=0)"
   ]
  },
  {
   "cell_type": "code",
   "execution_count": 5,
   "metadata": {},
   "outputs": [],
   "source": [
    "Individual_feature_sets = pd.read_csv('../Results/Individual_Feature_sets.csv')\n",
    "stopping_points = pd.read_csv('../Results/stopping_points.csv')"
   ]
  },
  {
   "cell_type": "code",
   "execution_count": 6,
   "metadata": {},
   "outputs": [
    {
     "name": "stderr",
     "output_type": "stream",
     "text": [
      "100%|██████████| 24/24 [00:37<00:00,  1.58s/it]\n",
      "100%|██████████| 24/24 [00:31<00:00,  1.31s/it]\n",
      "100%|██████████| 24/24 [00:30<00:00,  1.29s/it]\n",
      "100%|██████████| 24/24 [00:28<00:00,  1.19s/it]\n",
      "100%|██████████| 24/24 [00:30<00:00,  1.29s/it]\n",
      "100%|██████████| 24/24 [00:28<00:00,  1.18s/it]\n",
      "100%|██████████| 24/24 [00:26<00:00,  1.11s/it]\n"
     ]
    }
   ],
   "source": [
    "f1_all = []\n",
    "for i in range(7):\n",
    "    f1s = []\n",
    "    for k in trange(2, Individual_feature_sets.shape[1]+1):\n",
    "        features = Individual_feature_sets.iloc[i, 1:k]\n",
    "        model_lr.fit(train_X[features], train_Y)\n",
    "        predict = model_lr.predict(test_X[features])\n",
    "        f1s.append(f1_score(test_Y, predict))\n",
    "    f1_all.append(f1s)"
   ]
  },
  {
   "cell_type": "code",
   "execution_count": 7,
   "metadata": {},
   "outputs": [],
   "source": [
    "pd.DataFrame(f1_all, index=['chi2', 'ANOVA', 'mutualinfo', 'sfs(rf)', 'sfs(lr)', 'im(rf)', 'im(lr)']).to_csv('../Results/Individual_F1_LR_Test.csv')"
   ]
  },
  {
   "cell_type": "code",
   "execution_count": 8,
   "metadata": {},
   "outputs": [
    {
     "name": "stderr",
     "output_type": "stream",
     "text": [
      "100%|██████████| 24/24 [03:35<00:00,  8.99s/it]\n",
      "100%|██████████| 24/24 [03:32<00:00,  8.87s/it]\n",
      "100%|██████████| 24/24 [04:01<00:00, 10.08s/it]\n",
      "100%|██████████| 24/24 [03:35<00:00,  8.98s/it]\n",
      "100%|██████████| 24/24 [03:29<00:00,  8.72s/it]\n",
      "100%|██████████| 24/24 [03:40<00:00,  9.17s/it]\n",
      "100%|██████████| 24/24 [03:38<00:00,  9.12s/it]\n"
     ]
    }
   ],
   "source": [
    "f1_all = []\n",
    "for i in range(7):\n",
    "    f1s = []\n",
    "    for k in trange(2, Individual_feature_sets.shape[1]+1):\n",
    "        features = Individual_feature_sets.iloc[i, 1:k]\n",
    "        model_gb.fit(train_X[features], train_Y)\n",
    "        predict = model_gb.predict(test_X[features])\n",
    "        f1s.append(f1_score(test_Y, predict))\n",
    "    f1_all.append(f1s)"
   ]
  },
  {
   "cell_type": "code",
   "execution_count": 9,
   "metadata": {},
   "outputs": [],
   "source": [
    "pd.DataFrame(f1_all, index=['chi2', 'ANOVA', 'mutualinfo', 'sfs(rf)', 'sfs(lr)', 'im(rf)', 'im(lr)']).to_csv('../Results/Individual_F1_GB_Test.csv')"
   ]
  },
  {
   "cell_type": "code",
   "execution_count": 10,
   "metadata": {},
   "outputs": [],
   "source": [
    "from tensorflow.python.keras import Sequential, layers, optimizers, losses, metrics, callbacks, backend"
   ]
  },
  {
   "cell_type": "code",
   "execution_count": 11,
   "metadata": {},
   "outputs": [],
   "source": [
    "def ModelCreate(input_shape):\n",
    "    model = Sequential()\n",
    "    model.add(layers.Dense(50, activation='relu', input_shape=input_shape))\n",
    "    model.add(layers.Dropout(0.2))\n",
    "    model.add(layers.Dense(50, activation='relu'))\n",
    "    model.add(layers.Dropout(0.2))\n",
    "    model.add(layers.Dense(50, activation='relu'))\n",
    "    model.add(layers.Dropout(0.2))\n",
    "    model.add(layers.Dense(50, activation='relu'))\n",
    "    model.add(layers.Dropout(0.2))\n",
    "    model.add(layers.Dense(1, activation='sigmoid'))\n",
    "    model.compile(optimizer='adam', loss=losses.binary_crossentropy, metrics=[metrics.binary_accuracy])\n",
    "    return model"
   ]
  },
  {
   "cell_type": "code",
   "execution_count": 12,
   "metadata": {},
   "outputs": [
    {
     "name": "stderr",
     "output_type": "stream",
     "text": [
      "100%|██████████| 24/24 [52:12<00:00, 130.52s/it]\n",
      "100%|██████████| 24/24 [53:22<00:00, 133.42s/it]\n",
      "100%|██████████| 24/24 [55:37<00:00, 139.07s/it]\n",
      "100%|██████████| 24/24 [54:48<00:00, 137.04s/it]\n",
      "100%|██████████| 24/24 [53:38<00:00, 134.12s/it]\n",
      "100%|██████████| 24/24 [52:00<00:00, 130.01s/it]\n",
      "100%|██████████| 24/24 [50:34<00:00, 126.44s/it]\n"
     ]
    }
   ],
   "source": [
    "callback = callbacks.EarlyStopping(monitor='loss', mode='min', patience=3, min_delta=0.01, restore_best_weights=True)\n",
    "\n",
    "f1_all = []\n",
    "for i in range(7):\n",
    "    f1s = []\n",
    "    for k in trange(2, Individual_feature_sets.shape[1]+1):\n",
    "        model_nn = ModelCreate((k-1,))\n",
    "        features = Individual_feature_sets.iloc[i, 1:k]\n",
    "        model_nn.fit(train_X[features], train_Y, epochs=30, callbacks=[callback], use_multiprocessing=True, verbose=0)\n",
    "        predict = model_nn.predict(test_X[features], use_multiprocessing=True)\n",
    "        predict = np.where(predict < 0.5, 0, 1)\n",
    "        f1s.append(f1_score(test_Y, predict))\n",
    "    f1_all.append(f1s)"
   ]
  },
  {
   "cell_type": "code",
   "execution_count": 13,
   "metadata": {},
   "outputs": [],
   "source": [
    "pd.DataFrame(f1_all, index=['chi2', 'ANOVA', 'mutualinfo', 'sfs(rf)', 'sfs(lr)', 'im(rf)', 'im(lr)']).to_csv('../Results/Individual_F1_DNN_Test.csv')"
   ]
  },
  {
   "cell_type": "code",
   "execution_count": 15,
   "metadata": {},
   "outputs": [],
   "source": [
    "set_feature_sets = pd.read_csv('../Results/Set_Feature_sets.csv')"
   ]
  },
  {
   "cell_type": "code",
   "execution_count": 24,
   "metadata": {},
   "outputs": [
    {
     "data": {
      "text/plain": [
       "\"['dur', 'sttl', 'synack', 'smean', 'ct_state_ttl', 'ct_dst_sport_ltm']\""
      ]
     },
     "execution_count": 24,
     "metadata": {},
     "output_type": "execute_result"
    }
   ],
   "source": [
    "set_feature_sets.iloc[0, 2]"
   ]
  },
  {
   "cell_type": "code",
   "execution_count": 34,
   "metadata": {},
   "outputs": [
    {
     "name": "stdout",
     "output_type": "stream",
     "text": [
      "['dur', 'sttl', 'synack', 'smean', 'ct_state_ttl', 'ct_dst_sport_ltm']\n"
     ]
    }
   ],
   "source": [
    "f_raw = set_feature_sets.iloc[0, 2].translate({ord(i): None for i in \"[] '\"})\n",
    "f_str = f_raw.split(',')\n",
    "print(f_str)"
   ]
  },
  {
   "cell_type": "code",
   "execution_count": 36,
   "metadata": {},
   "outputs": [
    {
     "name": "stderr",
     "output_type": "stream",
     "text": [
      "100%|██████████| 24/24 [00:51<00:00,  2.13s/it]\n",
      "100%|██████████| 24/24 [00:12<00:00,  1.98it/s]\n",
      "100%|██████████| 24/24 [00:24<00:00,  1.01s/it]\n"
     ]
    }
   ],
   "source": [
    "f1_all = []\n",
    "for i in range(3):\n",
    "    f1s = []\n",
    "    for k in trange(1, set_feature_sets.shape[1]):\n",
    "        features = set_feature_sets.iloc[i, k].translate({ord(i): None for i in \"[] '\"}).split(',')\n",
    "        if features[0] != '':\n",
    "            model_lr.fit(train_X[features], train_Y)\n",
    "            predict = model_lr.predict(test_X[features])\n",
    "            f1s.append(f1_score(test_Y, predict))\n",
    "        else:\n",
    "            f1s.append(0)\n",
    "    f1_all.append(f1s)"
   ]
  },
  {
   "cell_type": "code",
   "execution_count": 37,
   "metadata": {},
   "outputs": [],
   "source": [
    "pd.DataFrame(f1_all, index=['union', 'intersection', 'quorum']).to_csv('../Results/Set_F1_LR_Test.csv')"
   ]
  },
  {
   "cell_type": "code",
   "execution_count": 38,
   "metadata": {},
   "outputs": [
    {
     "name": "stderr",
     "output_type": "stream",
     "text": [
      "100%|██████████| 24/24 [00:43<00:00,  1.80s/it]\n",
      "100%|██████████| 24/24 [00:12<00:00,  1.98it/s]\n",
      "100%|██████████| 24/24 [00:24<00:00,  1.01s/it]\n"
     ]
    }
   ],
   "source": [
    "f1_all = []\n",
    "for i in range(3):\n",
    "    f1s = []\n",
    "    for k in trange(1, set_feature_sets.shape[1]):\n",
    "        features = set_feature_sets.iloc[i, k].translate({ord(i): None for i in \"[] '\"}).split(',')\n",
    "        if features[0] != '':\n",
    "            model_lr.fit(train_X[features], train_Y)\n",
    "            predict = model_lr.predict(test_X[features])\n",
    "            f1s.append(f1_score(test_Y, predict))\n",
    "        else:\n",
    "            f1s.append(0)\n",
    "    f1_all.append(f1s)"
   ]
  },
  {
   "cell_type": "code",
   "execution_count": 39,
   "metadata": {},
   "outputs": [],
   "source": [
    "pd.DataFrame(f1_all, index=['union', 'intersection', 'quorum']).to_csv('../Results/Set_F1_GB_Test.csv')"
   ]
  },
  {
   "cell_type": "code",
   "execution_count": 42,
   "metadata": {},
   "outputs": [
    {
     "name": "stderr",
     "output_type": "stream",
     "text": [
      "100%|██████████| 24/24 [49:23<00:00, 123.49s/it]\n",
      "100%|██████████| 24/24 [29:07<00:00, 72.80s/it] \n",
      "100%|██████████| 24/24 [45:03<00:00, 112.63s/it]\n"
     ]
    }
   ],
   "source": [
    "f1_all = []\n",
    "for i in range(3):\n",
    "    f1s = []\n",
    "    for k in trange(1, set_feature_sets.shape[1]):\n",
    "        features = set_feature_sets.iloc[i, k].translate({ord(i): None for i in \"[] '\"}).split(',')\n",
    "        if features[0] != '':\n",
    "            model_nn = ModelCreate((len(features),))\n",
    "            model_nn.fit(train_X[features], train_Y, epochs=30, callbacks=[callback], use_multiprocessing=True, verbose=0)\n",
    "            predict = model_nn.predict(test_X[features], use_multiprocessing=True)\n",
    "            predict = np.where(predict < 0.5, 0, 1)\n",
    "            f1s.append(f1_score(test_Y, predict))\n",
    "            backend.clear_session()\n",
    "        else:\n",
    "            f1s.append(0)\n",
    "    f1_all.append(f1s)"
   ]
  },
  {
   "cell_type": "code",
   "execution_count": 43,
   "metadata": {},
   "outputs": [],
   "source": [
    "pd.DataFrame(f1_all, index=['union', 'intersection', 'quorum']).to_csv('../Results/Set_F1_DNN_Test.csv')"
   ]
  },
  {
   "cell_type": "code",
   "execution_count": 44,
   "metadata": {},
   "outputs": [],
   "source": [
    "greedy_feature_sets = pd.read_csv('../Results/Greedy_Feature_sets.csv')"
   ]
  },
  {
   "cell_type": "code",
   "execution_count": 45,
   "metadata": {},
   "outputs": [
    {
     "name": "stderr",
     "output_type": "stream",
     "text": [
      "100%|██████████| 23/23 [00:32<00:00,  1.40s/it]\n"
     ]
    }
   ],
   "source": [
    "f1_all = []\n",
    "for k in trange(2, greedy_feature_sets.shape[1]+1):\n",
    "    features = greedy_feature_sets.iloc[0, 1:k]\n",
    "    model_lr.fit(train_X[features], train_Y)\n",
    "    predict = model_lr.predict(test_X[features])\n",
    "    f1_all.append(f1_score(test_Y, predict))"
   ]
  },
  {
   "cell_type": "code",
   "execution_count": 46,
   "metadata": {},
   "outputs": [],
   "source": [
    "pd.DataFrame([f1_all], index=['greedy']).to_csv('../Results/Greedy_F1_LR_Test.csv')"
   ]
  },
  {
   "cell_type": "code",
   "execution_count": 47,
   "metadata": {},
   "outputs": [
    {
     "name": "stderr",
     "output_type": "stream",
     "text": [
      "100%|██████████| 23/23 [03:31<00:00,  9.20s/it]\n"
     ]
    }
   ],
   "source": [
    "f1_all = []\n",
    "for k in trange(2, greedy_feature_sets.shape[1]+1):\n",
    "    features = greedy_feature_sets.iloc[0, 1:k]\n",
    "    model_gb.fit(train_X[features], train_Y)\n",
    "    predict = model_gb.predict(test_X[features])\n",
    "    f1_all.append(f1_score(test_Y, predict))"
   ]
  },
  {
   "cell_type": "code",
   "execution_count": 48,
   "metadata": {},
   "outputs": [],
   "source": [
    "pd.DataFrame([f1_all], index=['greedy']).to_csv('../Results/Greedy_F1_GB_Test.csv')"
   ]
  },
  {
   "cell_type": "code",
   "execution_count": 49,
   "metadata": {},
   "outputs": [
    {
     "name": "stderr",
     "output_type": "stream",
     "text": [
      "100%|██████████| 23/23 [52:33<00:00, 137.09s/it]\n"
     ]
    }
   ],
   "source": [
    "f1_all = []\n",
    "for k in trange(2, greedy_feature_sets.shape[1]+1):\n",
    "    features = greedy_feature_sets.iloc[0, 1:k]\n",
    "    model_nn = ModelCreate((len(features),))\n",
    "    model_nn.fit(train_X[features], train_Y, epochs=30, callbacks=[callback], use_multiprocessing=True, verbose=0)\n",
    "    predict = model_nn.predict(test_X[features], use_multiprocessing=True)\n",
    "    predict = np.where(predict < 0.5, 0, 1)\n",
    "    f1_all.append(f1_score(test_Y, predict))\n",
    "    backend.clear_session()"
   ]
  },
  {
   "cell_type": "code",
   "execution_count": 50,
   "metadata": {},
   "outputs": [],
   "source": [
    "pd.DataFrame([f1_all], index=['greedy']).to_csv('../Results/Greedy_F1_DNN_Test.csv')"
   ]
  },
  {
   "attachments": {},
   "cell_type": "markdown",
   "metadata": {},
   "source": [
    "# Paper"
   ]
  },
  {
   "cell_type": "code",
   "execution_count": 51,
   "metadata": {},
   "outputs": [],
   "source": [
    "greedy_lr = ['dmean', 'dload',\n",
    "       'sload', 'swin', 'ct_state_ttl', 'djit',\n",
    "       'sjit', 'dinpkt', 'synack', 'dttl',\n",
    "       'ct_dst_sport_ltm', 'sinpkt']\n",
    "greedy_gb = ['smean', 'rate', 'ct_ftp_cmd',\n",
    "       'ct_flw_http_mthd', 'sttl', 'response_body_len',\n",
    "       'dtcpb', 'stcpb', 'dmean', 'dload',\n",
    "       'sload', 'swin', 'ct_state_ttl', 'djit',\n",
    "       'sjit', 'dinpkt', 'synack', 'dttl',\n",
    "       'ct_dst_sport_ltm', 'sinpkt']\n",
    "greedy_nn = ['swin', 'ct_state_ttl', 'djit',\n",
    "       'sjit', 'dinpkt', 'synack', 'dttl',\n",
    "       'ct_dst_sport_ltm', 'sinpkt']"
   ]
  },
  {
   "cell_type": "code",
   "execution_count": 52,
   "metadata": {},
   "outputs": [
    {
     "name": "stdout",
     "output_type": "stream",
     "text": [
      "0.7591398282881212\n"
     ]
    }
   ],
   "source": [
    "model_lr.fit(train_X[greedy_lr], train_Y)\n",
    "predict = model_lr.predict(test_X[greedy_lr])\n",
    "print(f1_score(test_Y, predict))"
   ]
  },
  {
   "cell_type": "code",
   "execution_count": 53,
   "metadata": {},
   "outputs": [
    {
     "name": "stdout",
     "output_type": "stream",
     "text": [
      "0.926429676787895\n"
     ]
    }
   ],
   "source": [
    "model_gb.fit(train_X[greedy_gb], train_Y)\n",
    "predict = model_gb.predict(test_X[greedy_gb])\n",
    "print(f1_score(test_Y, predict))"
   ]
  },
  {
   "cell_type": "code",
   "execution_count": 54,
   "metadata": {},
   "outputs": [
    {
     "name": "stdout",
     "output_type": "stream",
     "text": [
      "0.8070279034873309\n"
     ]
    }
   ],
   "source": [
    "model_nn = ModelCreate((len(greedy_nn),))\n",
    "model_nn.fit(train_X[greedy_nn], train_Y, epochs=30, callbacks=[callback], use_multiprocessing=True, verbose=0)\n",
    "predict = model_nn.predict(test_X[greedy_nn], use_multiprocessing=True)\n",
    "predict = np.where(predict < 0.5, 0, 1)\n",
    "print(f1_score(test_Y, predict))"
   ]
  }
 ],
 "metadata": {
  "kernelspec": {
   "display_name": "myenv",
   "language": "python",
   "name": "python3"
  },
  "language_info": {
   "codemirror_mode": {
    "name": "ipython",
    "version": 3
   },
   "file_extension": ".py",
   "mimetype": "text/x-python",
   "name": "python",
   "nbconvert_exporter": "python",
   "pygments_lexer": "ipython3",
   "version": "3.9.13"
  },
  "orig_nbformat": 4,
  "vscode": {
   "interpreter": {
    "hash": "47bdff014318604fa210da353932788820ee8531c76f980c2092f0fcb79da61a"
   }
  }
 },
 "nbformat": 4,
 "nbformat_minor": 2
}
