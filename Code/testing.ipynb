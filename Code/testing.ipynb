{
 "cells": [
  {
   "cell_type": "code",
   "execution_count": 2,
   "metadata": {},
   "outputs": [],
   "source": [
    "import numpy as np\n",
    "import pandas as pd\n",
    "import matplotlib.pyplot as plt\n",
    "from tqdm import trange"
   ]
  },
  {
   "cell_type": "code",
   "execution_count": 3,
   "metadata": {},
   "outputs": [
    {
     "name": "stderr",
     "output_type": "stream",
     "text": [
      "Intel(R) Extension for Scikit-learn* enabled (https://github.com/intel/scikit-learn-intelex)\n"
     ]
    }
   ],
   "source": [
    "from sklearn.linear_model import LogisticRegression\n",
    "from sklearn.ensemble import GradientBoostingClassifier\n",
    "from sklearn.metrics import f1_score\n",
    "from sklearnex import patch_sklearn\n",
    "patch_sklearn()"
   ]
  },
  {
   "cell_type": "code",
   "execution_count": 4,
   "metadata": {},
   "outputs": [
    {
     "name": "stdout",
     "output_type": "stream",
     "text": [
      "(494021, 42)\n",
      "(311029, 42)\n",
      "(494021, 38)\n",
      "(311029, 38)\n"
     ]
    }
   ],
   "source": [
    "# Load Data\n",
    "train_raw = pd.read_csv('../Data/KDDCUP99/train.csv')\n",
    "test_raw = pd.read_csv('../Data/KDDCUP99/test.csv')\n",
    "print(train_raw.shape)\n",
    "print(test_raw.shape)\n",
    "\n",
    "# Seperate label and Drop ID\n",
    "def LabelEncode(x):\n",
    "    if x == 'normal.':\n",
    "        return 0\n",
    "    else:\n",
    "        return 1\n",
    "train_X = train_raw.drop(['type'], axis=1).select_dtypes(include='number')\n",
    "print(train_X.shape)\n",
    "test_X = test_raw.drop(['type'], axis=1).select_dtypes(include='number')\n",
    "print(test_X.shape)\n",
    "train_Y = train_raw['type'].apply(LabelEncode)\n",
    "test_Y = test_raw['type'].apply(LabelEncode)\n",
    "\n",
    "# Normalize data with min, max of training data\n",
    "test_X1 = (test_X - train_X.min(axis=0)) / (train_X.max(axis=0) - train_X.min(axis=0))\n",
    "train_X1 = (train_X - train_X.min(axis=0)) / (train_X.max(axis=0) - train_X.min(axis=0))\n",
    "\n",
    "train_X1.fillna(0, inplace=True)\n",
    "test_X1.fillna(0, inplace=True)"
   ]
  },
  {
   "cell_type": "code",
   "execution_count": 4,
   "metadata": {},
   "outputs": [],
   "source": [
    "model_lr = LogisticRegression(max_iter=10000, random_state=0, n_jobs=-1)\n",
    "model_gb = GradientBoostingClassifier(random_state=0)"
   ]
  },
  {
   "cell_type": "code",
   "execution_count": 5,
   "metadata": {},
   "outputs": [],
   "source": [
    "Individual_feature_sets = pd.read_csv('../Results/KDDCUP99/Feature_sets.csv')"
   ]
  },
  {
   "cell_type": "code",
   "execution_count": null,
   "metadata": {},
   "outputs": [],
   "source": [
    "f1_all = []\n",
    "for i in range(7):\n",
    "    f1s = []\n",
    "    for k in trange(2, Individual_feature_sets.shape[1]+1):\n",
    "        features = Individual_feature_sets.iloc[i, 1:k]\n",
    "        model_lr.fit(train_X[features], train_Y)\n",
    "        predict = model_lr.predict(test_X[features])\n",
    "        f1s.append(f1_score(test_Y, predict))\n",
    "    f1_all.append(f1s)"
   ]
  },
  {
   "cell_type": "code",
   "execution_count": 19,
   "metadata": {},
   "outputs": [],
   "source": [
    "pd.DataFrame(f1_all, index=['chi2', 'ANOVA', 'mutualinfo', 'sfs(rf)', 'sfs(lr)', 'im(rf)', 'im(lr)']).to_csv('../Results/KDDCUP99/Individual_F1_LR_Test.csv')"
   ]
  },
  {
   "cell_type": "code",
   "execution_count": 6,
   "metadata": {},
   "outputs": [
    {
     "name": "stderr",
     "output_type": "stream",
     "text": [
      "100%|██████████| 25/25 [07:22<00:00, 17.71s/it]\n",
      "100%|██████████| 25/25 [07:26<00:00, 17.86s/it]\n",
      "100%|██████████| 25/25 [08:12<00:00, 19.70s/it]\n",
      "100%|██████████| 25/25 [07:56<00:00, 19.04s/it]\n",
      "100%|██████████| 25/25 [07:24<00:00, 17.79s/it]\n",
      "100%|██████████| 25/25 [08:06<00:00, 19.48s/it]\n",
      "100%|██████████| 25/25 [07:12<00:00, 17.29s/it]\n"
     ]
    }
   ],
   "source": [
    "f1_all = []\n",
    "for i in range(7):\n",
    "    f1s = []\n",
    "    for k in trange(2, Individual_feature_sets.shape[1]+1):\n",
    "        features = Individual_feature_sets.iloc[i, 1:k]\n",
    "        model_gb.fit(train_X[features], train_Y)\n",
    "        predict = model_gb.predict(test_X[features])\n",
    "        f1s.append(f1_score(test_Y, predict))\n",
    "    f1_all.append(f1s)"
   ]
  },
  {
   "cell_type": "code",
   "execution_count": 7,
   "metadata": {},
   "outputs": [],
   "source": [
    "pd.DataFrame(f1_all, index=['chi2', 'ANOVA', 'mutualinfo', 'sfs(rf)', 'sfs(lr)', 'im(rf)', 'im(lr)']).to_csv('../Results/KDDCUP99/Individual_F1_GB_Test.csv')"
   ]
  },
  {
   "cell_type": "code",
   "execution_count": 7,
   "metadata": {},
   "outputs": [],
   "source": [
    "from tensorflow.python.keras import Sequential, layers, optimizers, losses, metrics, callbacks, backend"
   ]
  },
  {
   "cell_type": "code",
   "execution_count": 8,
   "metadata": {},
   "outputs": [],
   "source": [
    "def ModelCreate(input_shape):\n",
    "    model = Sequential()\n",
    "    model.add(layers.Dense(50, activation='relu', input_shape=input_shape))\n",
    "    model.add(layers.Dropout(0.2))\n",
    "    model.add(layers.Dense(50, activation='relu'))\n",
    "    model.add(layers.Dropout(0.2))\n",
    "    model.add(layers.Dense(50, activation='relu'))\n",
    "    model.add(layers.Dropout(0.2))\n",
    "    model.add(layers.Dense(50, activation='relu'))\n",
    "    model.add(layers.Dropout(0.2))\n",
    "    model.add(layers.Dense(1, activation='sigmoid'))\n",
    "    model.compile(optimizer='adam', loss=losses.binary_crossentropy, metrics=[metrics.binary_accuracy])\n",
    "    return model"
   ]
  },
  {
   "cell_type": "code",
   "execution_count": 9,
   "metadata": {},
   "outputs": [],
   "source": [
    "callback = callbacks.EarlyStopping(monitor='loss', mode='min', patience=3, min_delta=0.01, restore_best_weights=True)"
   ]
  },
  {
   "cell_type": "code",
   "execution_count": 10,
   "metadata": {},
   "outputs": [
    {
     "name": "stderr",
     "output_type": "stream",
     "text": [
      "100%|██████████| 25/25 [13:09<00:00, 31.57s/it]\n",
      "100%|██████████| 25/25 [13:37<00:00, 32.69s/it]\n",
      "100%|██████████| 25/25 [17:27<00:00, 41.91s/it]\n",
      "100%|██████████| 25/25 [15:56<00:00, 38.27s/it]\n",
      "100%|██████████| 25/25 [14:37<00:00, 35.11s/it]\n",
      "100%|██████████| 25/25 [15:09<00:00, 36.38s/it]\n",
      "100%|██████████| 25/25 [12:18<00:00, 29.55s/it]\n"
     ]
    }
   ],
   "source": [
    "f1_all = []\n",
    "for i in range(7):\n",
    "    f1s = []\n",
    "    for k in trange(2, Individual_feature_sets.shape[1]+1):\n",
    "        model_nn = ModelCreate((k-1,))\n",
    "        features = Individual_feature_sets.iloc[i, 1:k]\n",
    "        model_nn.fit(train_X[features], train_Y, batch_size=1024, epochs=30, callbacks=[callback], use_multiprocessing=True, verbose=0)\n",
    "        predict = model_nn.predict(test_X[features], use_multiprocessing=True)\n",
    "        predict = np.where(predict < 0.5, 0, 1)\n",
    "        f1s.append(f1_score(test_Y, predict))\n",
    "    f1_all.append(f1s)"
   ]
  },
  {
   "cell_type": "code",
   "execution_count": 11,
   "metadata": {},
   "outputs": [],
   "source": [
    "pd.DataFrame(f1_all, index=['chi2', 'ANOVA', 'mutualinfo', 'sfs(rf)', 'sfs(lr)', 'im(rf)', 'im(lr)']).to_csv('../Results/KDDCUP99/Individual_F1_DNN_Test.csv')"
   ]
  },
  {
   "cell_type": "code",
   "execution_count": 12,
   "metadata": {},
   "outputs": [],
   "source": [
    "set_feature_sets = pd.read_csv('../Results/KDDCUP99/Set_Feature_sets.csv')"
   ]
  },
  {
   "cell_type": "code",
   "execution_count": 13,
   "metadata": {},
   "outputs": [
    {
     "name": "stderr",
     "output_type": "stream",
     "text": [
      "100%|██████████| 25/25 [01:07<00:00,  2.72s/it]\n",
      "100%|██████████| 25/25 [00:35<00:00,  1.42s/it]\n",
      "100%|██████████| 25/25 [00:46<00:00,  1.87s/it]\n"
     ]
    }
   ],
   "source": [
    "f1_all = []\n",
    "for i in range(3):\n",
    "    f1s = []\n",
    "    for k in trange(1, set_feature_sets.shape[1]):\n",
    "        features = set_feature_sets.iloc[i, k].translate({ord(i): None for i in \"[] '\"}).split(',')\n",
    "        if features[0] != '':\n",
    "            model_lr.fit(train_X[features], train_Y)\n",
    "            predict = model_lr.predict(test_X[features])\n",
    "            f1s.append(f1_score(test_Y, predict))\n",
    "        else:\n",
    "            f1s.append(0)\n",
    "    f1_all.append(f1s)"
   ]
  },
  {
   "cell_type": "code",
   "execution_count": 14,
   "metadata": {},
   "outputs": [],
   "source": [
    "pd.DataFrame(f1_all, index=['union', 'intersection', 'quorum']).to_csv('../Results/KDDCUP99/Set_F1_LR_Test.csv')"
   ]
  },
  {
   "cell_type": "code",
   "execution_count": 15,
   "metadata": {},
   "outputs": [
    {
     "name": "stderr",
     "output_type": "stream",
     "text": [
      "100%|██████████| 25/25 [09:02<00:00, 21.71s/it]\n",
      "100%|██████████| 25/25 [06:18<00:00, 15.13s/it]\n",
      "100%|██████████| 25/25 [07:58<00:00, 19.15s/it]\n"
     ]
    }
   ],
   "source": [
    "f1_all = []\n",
    "for i in range(3):\n",
    "    f1s = []\n",
    "    for k in trange(1, set_feature_sets.shape[1]):\n",
    "        features = set_feature_sets.iloc[i, k].translate({ord(i): None for i in \"[] '\"}).split(',')\n",
    "        if features[0] != '':\n",
    "            model_gb.fit(train_X[features], train_Y)\n",
    "            predict = model_gb.predict(test_X[features])\n",
    "            f1s.append(f1_score(test_Y, predict))\n",
    "        else:\n",
    "            f1s.append(0)\n",
    "    f1_all.append(f1s)"
   ]
  },
  {
   "cell_type": "code",
   "execution_count": 16,
   "metadata": {},
   "outputs": [],
   "source": [
    "pd.DataFrame(f1_all, index=['union', 'intersection', 'quorum']).to_csv('../Results/KDDCUP99/Set_F1_GB_Test.csv')"
   ]
  },
  {
   "cell_type": "code",
   "execution_count": 17,
   "metadata": {},
   "outputs": [
    {
     "name": "stderr",
     "output_type": "stream",
     "text": [
      "100%|██████████| 25/25 [3:42:16<00:00, 533.47s/it]  \n",
      "100%|██████████| 25/25 [2:20:40<00:00, 337.61s/it]  \n",
      "100%|██████████| 25/25 [2:44:35<00:00, 395.02s/it]  \n"
     ]
    }
   ],
   "source": [
    "f1_all = []\n",
    "for i in range(3):\n",
    "    f1s = []\n",
    "    for k in trange(1, set_feature_sets.shape[1]):\n",
    "        features = set_feature_sets.iloc[i, k].translate({ord(i): None for i in \"[] '\"}).split(',')\n",
    "        if features[0] != '':\n",
    "            model_nn = ModelCreate((len(features),))\n",
    "            model_nn.fit(train_X[features], train_Y, epochs=30, callbacks=[callback], use_multiprocessing=True, verbose=0)\n",
    "            predict = model_nn.predict(test_X[features], use_multiprocessing=True)\n",
    "            predict = np.where(predict < 0.5, 0, 1)\n",
    "            f1s.append(f1_score(test_Y, predict))\n",
    "            backend.clear_session()\n",
    "        else:\n",
    "            f1s.append(0)\n",
    "    f1_all.append(f1s)"
   ]
  },
  {
   "cell_type": "code",
   "execution_count": 18,
   "metadata": {},
   "outputs": [],
   "source": [
    "pd.DataFrame(f1_all, index=['union', 'intersection', 'quorum']).to_csv('../Results/KDDCUP99/Set_F1_DNN_Test.csv')"
   ]
  },
  {
   "cell_type": "code",
   "execution_count": 5,
   "metadata": {},
   "outputs": [],
   "source": [
    "greedy_feature_sets = ['count', 'logged_in', 'dst_bytes', 'dst_host_count', 'srv_diff_host_rate', 'dst_host_srv_diff_host_rate', 'same_srv_rate', 'dst_host_diff_srv_rate', 'duration', 'num_access_files', 'src_bytes', 'diff_srv_rate', 'dst_host_srv_rerror_rate', 'num_root', 'num_file_creations', 'is_guest_login', 'wrong_fragment', 'num_shells', 'su_attempted', 'root_shell', 'land', 'urgent', 'num_failed_logins', 'num_outbound_cmds', 'is_host_login']"
   ]
  },
  {
   "cell_type": "code",
   "execution_count": 23,
   "metadata": {},
   "outputs": [
    {
     "name": "stderr",
     "output_type": "stream",
     "text": [
      "100%|██████████| 25/25 [01:01<00:00,  2.47s/it]\n"
     ]
    }
   ],
   "source": [
    "f1_all = []\n",
    "for k in trange(len(greedy_feature_sets)):\n",
    "    features = greedy_feature_sets[:k+1]\n",
    "    model_lr.fit(train_X[features], train_Y)\n",
    "    predict = model_lr.predict(test_X[features])\n",
    "    f1_all.append(f1_score(test_Y, predict))"
   ]
  },
  {
   "cell_type": "code",
   "execution_count": 24,
   "metadata": {},
   "outputs": [],
   "source": [
    "pd.DataFrame([f1_all], index=['greedy']).to_csv('../Results/KDDCUP99/Greedy_F1_LR_Test.csv')"
   ]
  },
  {
   "cell_type": "code",
   "execution_count": 25,
   "metadata": {},
   "outputs": [
    {
     "name": "stderr",
     "output_type": "stream",
     "text": [
      "100%|██████████| 25/25 [08:13<00:00, 19.75s/it]\n"
     ]
    }
   ],
   "source": [
    "f1_all = []\n",
    "for k in trange(len(greedy_feature_sets)):\n",
    "    features = greedy_feature_sets[:k+1]\n",
    "    model_gb.fit(train_X[features], train_Y)\n",
    "    predict = model_gb.predict(test_X[features])\n",
    "    f1_all.append(f1_score(test_Y, predict))"
   ]
  },
  {
   "cell_type": "code",
   "execution_count": 26,
   "metadata": {},
   "outputs": [],
   "source": [
    "pd.DataFrame([f1_all], index=['greedy']).to_csv('../Results/KDDCUP99/Greedy_F1_GB_Test.csv')"
   ]
  },
  {
   "cell_type": "code",
   "execution_count": 10,
   "metadata": {},
   "outputs": [
    {
     "name": "stderr",
     "output_type": "stream",
     "text": [
      "100%|██████████| 25/25 [14:47<00:00, 35.50s/it]\n"
     ]
    }
   ],
   "source": [
    "f1_all = []\n",
    "for k in trange(len(greedy_feature_sets)):\n",
    "    features = greedy_feature_sets[:k+1]\n",
    "    model_nn = ModelCreate((len(features),))\n",
    "    model_nn.fit(train_X[features], train_Y, batch_size=1024, epochs=30, callbacks=[callback], use_multiprocessing=True, verbose=0)\n",
    "    predict = model_nn.predict(test_X[features], use_multiprocessing=True)\n",
    "    predict = np.where(predict < 0.5, 0, 1)\n",
    "    f1_all.append(f1_score(test_Y, predict))\n",
    "    backend.clear_session()"
   ]
  },
  {
   "cell_type": "code",
   "execution_count": 11,
   "metadata": {},
   "outputs": [],
   "source": [
    "pd.DataFrame([f1_all], index=['greedy']).to_csv('../Results/KDDCUP99/Greedy_F1_DNN_Test.csv')"
   ]
  },
  {
   "attachments": {},
   "cell_type": "markdown",
   "metadata": {},
   "source": [
    "# Paper"
   ]
  },
  {
   "cell_type": "code",
   "execution_count": 51,
   "metadata": {},
   "outputs": [],
   "source": [
    "greedy_lr = ['dmean', 'dload',\n",
    "       'sload', 'swin', 'ct_state_ttl', 'djit',\n",
    "       'sjit', 'dinpkt', 'synack', 'dttl',\n",
    "       'ct_dst_sport_ltm', 'sinpkt']\n",
    "greedy_gb = ['smean', 'rate', 'ct_ftp_cmd',\n",
    "       'ct_flw_http_mthd', 'sttl', 'response_body_len',\n",
    "       'dtcpb', 'stcpb', 'dmean', 'dload',\n",
    "       'sload', 'swin', 'ct_state_ttl', 'djit',\n",
    "       'sjit', 'dinpkt', 'synack', 'dttl',\n",
    "       'ct_dst_sport_ltm', 'sinpkt']\n",
    "greedy_nn = ['swin', 'ct_state_ttl', 'djit',\n",
    "       'sjit', 'dinpkt', 'synack', 'dttl',\n",
    "       'ct_dst_sport_ltm', 'sinpkt']"
   ]
  },
  {
   "cell_type": "code",
   "execution_count": 52,
   "metadata": {},
   "outputs": [
    {
     "name": "stdout",
     "output_type": "stream",
     "text": [
      "0.7591398282881212\n"
     ]
    }
   ],
   "source": [
    "model_lr.fit(train_X[greedy_lr], train_Y)\n",
    "predict = model_lr.predict(test_X[greedy_lr])\n",
    "print(f1_score(test_Y, predict))"
   ]
  },
  {
   "cell_type": "code",
   "execution_count": 53,
   "metadata": {},
   "outputs": [
    {
     "name": "stdout",
     "output_type": "stream",
     "text": [
      "0.926429676787895\n"
     ]
    }
   ],
   "source": [
    "model_gb.fit(train_X[greedy_gb], train_Y)\n",
    "predict = model_gb.predict(test_X[greedy_gb])\n",
    "print(f1_score(test_Y, predict))"
   ]
  },
  {
   "cell_type": "code",
   "execution_count": 54,
   "metadata": {},
   "outputs": [
    {
     "name": "stdout",
     "output_type": "stream",
     "text": [
      "0.8070279034873309\n"
     ]
    }
   ],
   "source": [
    "model_nn = ModelCreate((len(greedy_nn),))\n",
    "model_nn.fit(train_X[greedy_nn], train_Y, epochs=30, callbacks=[callback], use_multiprocessing=True, verbose=0)\n",
    "predict = model_nn.predict(test_X[greedy_nn], use_multiprocessing=True)\n",
    "predict = np.where(predict < 0.5, 0, 1)\n",
    "print(f1_score(test_Y, predict))"
   ]
  }
 ],
 "metadata": {
  "kernelspec": {
   "display_name": "myenv",
   "language": "python",
   "name": "python3"
  },
  "language_info": {
   "codemirror_mode": {
    "name": "ipython",
    "version": 3
   },
   "file_extension": ".py",
   "mimetype": "text/x-python",
   "name": "python",
   "nbconvert_exporter": "python",
   "pygments_lexer": "ipython3",
   "version": "3.9.13"
  },
  "orig_nbformat": 4,
  "vscode": {
   "interpreter": {
    "hash": "47bdff014318604fa210da353932788820ee8531c76f980c2092f0fcb79da61a"
   }
  }
 },
 "nbformat": 4,
 "nbformat_minor": 2
}
