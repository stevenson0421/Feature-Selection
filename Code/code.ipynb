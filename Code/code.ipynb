{
 "cells": [
  {
   "cell_type": "code",
   "execution_count": 2,
   "metadata": {},
   "outputs": [
    {
     "name": "stdout",
     "output_type": "stream",
     "text": [
      "Using cuda device\n"
     ]
    }
   ],
   "source": [
    "import torch\n",
    "\n",
    "device = \"cuda\" if torch.cuda.is_available() else \"mps\" if torch.backends.mps.is_available() else \"cpu\"\n",
    "print(f\"Using {device} device\")"
   ]
  },
  {
   "cell_type": "code",
   "execution_count": 1,
   "metadata": {},
   "outputs": [
    {
     "name": "stdout",
     "output_type": "stream",
     "text": [
      "<class 'pandas.core.frame.DataFrame'>\n",
      "RangeIndex: 500000 entries, 0 to 499999\n",
      "Data columns (total 80 columns):\n",
      " #   Column                        Non-Null Count   Dtype  \n",
      "---  ------                        --------------   -----  \n",
      " 0   Unnamed: 0                    500000 non-null  int64  \n",
      " 1    Destination Port             500000 non-null  int64  \n",
      " 2    Flow Duration                500000 non-null  int64  \n",
      " 3    Total Fwd Packets            500000 non-null  int64  \n",
      " 4    Total Backward Packets       500000 non-null  int64  \n",
      " 5   Total Length of Fwd Packets   500000 non-null  int64  \n",
      " 6    Total Length of Bwd Packets  500000 non-null  int64  \n",
      " 7    Fwd Packet Length Max        500000 non-null  int64  \n",
      " 8    Fwd Packet Length Min        500000 non-null  int64  \n",
      " 9    Fwd Packet Length Mean       500000 non-null  float64\n",
      " 10   Fwd Packet Length Std        500000 non-null  float64\n",
      " 11  Bwd Packet Length Max         500000 non-null  int64  \n",
      " 12   Bwd Packet Length Min        500000 non-null  int64  \n",
      " 13   Bwd Packet Length Mean       500000 non-null  float64\n",
      " 14   Bwd Packet Length Std        500000 non-null  float64\n",
      " 15  Flow Bytes/s                  499798 non-null  float64\n",
      " 16   Flow Packets/s               500000 non-null  float64\n",
      " 17   Flow IAT Mean                500000 non-null  float64\n",
      " 18   Flow IAT Std                 500000 non-null  float64\n",
      " 19   Flow IAT Max                 500000 non-null  int64  \n",
      " 20   Flow IAT Min                 500000 non-null  int64  \n",
      " 21  Fwd IAT Total                 500000 non-null  int64  \n",
      " 22   Fwd IAT Mean                 500000 non-null  float64\n",
      " 23   Fwd IAT Std                  500000 non-null  float64\n",
      " 24   Fwd IAT Max                  500000 non-null  int64  \n",
      " 25   Fwd IAT Min                  500000 non-null  int64  \n",
      " 26  Bwd IAT Total                 500000 non-null  int64  \n",
      " 27   Bwd IAT Mean                 500000 non-null  float64\n",
      " 28   Bwd IAT Std                  500000 non-null  float64\n",
      " 29   Bwd IAT Max                  500000 non-null  int64  \n",
      " 30   Bwd IAT Min                  500000 non-null  int64  \n",
      " 31  Fwd PSH Flags                 500000 non-null  int64  \n",
      " 32   Bwd PSH Flags                500000 non-null  int64  \n",
      " 33   Fwd URG Flags                500000 non-null  int64  \n",
      " 34   Bwd URG Flags                500000 non-null  int64  \n",
      " 35   Fwd Header Length            500000 non-null  int64  \n",
      " 36   Bwd Header Length            500000 non-null  int64  \n",
      " 37  Fwd Packets/s                 500000 non-null  float64\n",
      " 38   Bwd Packets/s                500000 non-null  float64\n",
      " 39   Min Packet Length            500000 non-null  int64  \n",
      " 40   Max Packet Length            500000 non-null  int64  \n",
      " 41   Packet Length Mean           500000 non-null  float64\n",
      " 42   Packet Length Std            500000 non-null  float64\n",
      " 43   Packet Length Variance       500000 non-null  float64\n",
      " 44  FIN Flag Count                500000 non-null  int64  \n",
      " 45   SYN Flag Count               500000 non-null  int64  \n",
      " 46   RST Flag Count               500000 non-null  int64  \n",
      " 47   PSH Flag Count               500000 non-null  int64  \n",
      " 48   ACK Flag Count               500000 non-null  int64  \n",
      " 49   URG Flag Count               500000 non-null  int64  \n",
      " 50   CWE Flag Count               500000 non-null  int64  \n",
      " 51   ECE Flag Count               500000 non-null  int64  \n",
      " 52   Down/Up Ratio                500000 non-null  int64  \n",
      " 53   Average Packet Size          500000 non-null  float64\n",
      " 54   Avg Fwd Segment Size         500000 non-null  float64\n",
      " 55   Avg Bwd Segment Size         500000 non-null  float64\n",
      " 56   Fwd Header Length.1          500000 non-null  int64  \n",
      " 57  Fwd Avg Bytes/Bulk            500000 non-null  int64  \n",
      " 58   Fwd Avg Packets/Bulk         500000 non-null  int64  \n",
      " 59   Fwd Avg Bulk Rate            500000 non-null  int64  \n",
      " 60   Bwd Avg Bytes/Bulk           500000 non-null  int64  \n",
      " 61   Bwd Avg Packets/Bulk         500000 non-null  int64  \n",
      " 62  Bwd Avg Bulk Rate             500000 non-null  int64  \n",
      " 63  Subflow Fwd Packets           500000 non-null  int64  \n",
      " 64   Subflow Fwd Bytes            500000 non-null  int64  \n",
      " 65   Subflow Bwd Packets          500000 non-null  int64  \n",
      " 66   Subflow Bwd Bytes            500000 non-null  int64  \n",
      " 67  Init_Win_bytes_forward        500000 non-null  int64  \n",
      " 68   Init_Win_bytes_backward      500000 non-null  int64  \n",
      " 69   act_data_pkt_fwd             500000 non-null  int64  \n",
      " 70   min_seg_size_forward         500000 non-null  int64  \n",
      " 71  Active Mean                   500000 non-null  float64\n",
      " 72   Active Std                   500000 non-null  float64\n",
      " 73   Active Max                   500000 non-null  int64  \n",
      " 74   Active Min                   500000 non-null  int64  \n",
      " 75  Idle Mean                     500000 non-null  float64\n",
      " 76   Idle Std                     500000 non-null  float64\n",
      " 77   Idle Max                     500000 non-null  int64  \n",
      " 78   Idle Min                     500000 non-null  int64  \n",
      " 79   Label                        500000 non-null  object \n",
      "dtypes: float64(24), int64(55), object(1)\n",
      "memory usage: 305.2+ MB\n"
     ]
    }
   ],
   "source": [
    "import pandas as pd\n",
    "\n",
    "data = pd.read_csv('../Data/CICIDS-2017/train.csv')\n",
    "data.info()"
   ]
  }
 ],
 "metadata": {
  "kernelspec": {
   "display_name": "myenv",
   "language": "python",
   "name": "python3"
  },
  "language_info": {
   "codemirror_mode": {
    "name": "ipython",
    "version": 3
   },
   "file_extension": ".py",
   "mimetype": "text/x-python",
   "name": "python",
   "nbconvert_exporter": "python",
   "pygments_lexer": "ipython3",
   "version": "3.9.13"
  },
  "orig_nbformat": 4,
  "vscode": {
   "interpreter": {
    "hash": "47bdff014318604fa210da353932788820ee8531c76f980c2092f0fcb79da61a"
   }
  }
 },
 "nbformat": 4,
 "nbformat_minor": 2
}
